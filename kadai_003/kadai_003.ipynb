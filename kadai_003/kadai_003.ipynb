# Step1.
import numpy as np
# Step2.
A = np.array([[0, 1], [2, 3], [4, 5]])
B = np.array([[0, 1, 2, 3], [4, 5, 6, 7]])
# Step3. and 4.
np.dot(A, B)
# Step5.
np.max(np.dot(A,B))
